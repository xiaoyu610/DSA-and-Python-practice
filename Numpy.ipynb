{
 "cells": [
  {
   "cell_type": "code",
   "execution_count": 1,
   "id": "83ff761d",
   "metadata": {},
   "outputs": [
    {
     "name": "stdout",
     "output_type": "stream",
     "text": [
      "[[1, 2], [3, 4], [5, 6]]\n",
      "[1, 2]\n",
      "[3, 4]\n",
      "[5, 6]\n",
      "[1, 2]\n",
      "[3, 4]\n",
      "[5, 6]\n",
      "10\n"
     ]
    }
   ],
   "source": [
    "# array #\n",
    "\n",
    "# Array elements are stored in contiguous memory locations \n",
    "# >>> adding or removing elements requires shifting elements, O(n)\n",
    "\n",
    "twod = [[1,2],\n",
    "         [3,4],\n",
    "         [5,6]]\n",
    "print(twod)\n",
    "\n",
    "for element in twod:\n",
    "    print(element)\n",
    "\n",
    "twod.append(10)\n",
    "for element in twod:\n",
    "    print(element)"
   ]
  },
  {
   "cell_type": "code",
   "execution_count": 4,
   "id": "fd98cb45",
   "metadata": {},
   "outputs": [
    {
     "name": "stdout",
     "output_type": "stream",
     "text": [
      "1\n",
      "4\n",
      "4\n"
     ]
    },
    {
     "data": {
      "text/plain": [
       "array([0, 2, 4, 6, 8])"
      ]
     },
     "execution_count": 4,
     "metadata": {},
     "output_type": "execute_result"
    }
   ],
   "source": [
    "import numpy as np\n",
    "\n",
    "twod = np.array(twod)\n",
    "print(twod.ndim)\n",
    "print(len(twod)) # n of rows\n",
    "print(twod.size)"
   ]
  },
  {
   "cell_type": "code",
   "execution_count": 6,
   "id": "351d5ac4",
   "metadata": {},
   "outputs": [
    {
     "data": {
      "text/plain": [
       "array([0, 2, 4, 6, 8])"
      ]
     },
     "execution_count": 6,
     "metadata": {},
     "output_type": "execute_result"
    }
   ],
   "source": [
    "np.__version__\n",
    "np?"
   ]
  },
  {
   "cell_type": "code",
   "execution_count": 28,
   "id": "5a40931b",
   "metadata": {},
   "outputs": [],
   "source": [
    "## 1. creating arrays\n",
    "np.array([1, 2, 3])       # 1D array\n",
    "np.array([[1, 2], [3, 4]]) # 2D array\n",
    "np.zeros((2, 3))          # 2x3 matrix of zeros\n",
    "np.ones((3, 3))           # 3x3 matrix of ones\n",
    "np.full((2, 2), 7)        # 2x2 matrix filled with 7\n",
    "np.eye(3)                 # 3x3 Identity matrix\n",
    "np.linspace(0, 10, 5)     # 5 equally spaced values between 0 and 10\n",
    "np.arange(0, 10, 2)       # Sequence from 0 to 8 with step 2"
   ]
  },
  {
   "cell_type": "code",
   "execution_count": null,
   "id": "d47e014d",
   "metadata": {},
   "outputs": [],
   "source": [
    "## 2. random numbers\n",
    "np.random.rand(3, 3)        # 3x3 matrix of uniform random numbers [0,1)\n",
    "np.random.randn(3, 3)       # 3x3 matrix of standard normal numbers\n",
    "np.random.randint(0, 10, 5) # 5 random integers from 0 to 9\n",
    "np.random.seed(42)          # Set seed for reproducibility"
   ]
  },
  {
   "cell_type": "code",
   "execution_count": null,
   "id": "d05a604f",
   "metadata": {},
   "outputs": [],
   "source": [
    "# struct _longobject {\n",
    "#     long ob_refcnt;\n",
    "#     PyTypeObject *ob_type;\n",
    "#     size_t ob_size;\n",
    "#     long ob_digit[1];\n",
    "# };\n",
    "# A single integer in Python 3.4 actually contains four pieces:\n",
    "\n",
    "# ob_refcnt, a reference count that helps Python silently handle memory allocation and deallocation\n",
    "# ob_type, which encodes the type of the variable\n",
    "# ob_size, which specifies the size of the following data members\n",
    "# ob_digit, which contains the actual integer value that we expect the Python variable to represent.\n",
    "\n",
    "np.array([range(i, i+3) for i in [2,4,6]])"
   ]
  },
  {
   "cell_type": "code",
   "execution_count": null,
   "id": "ad7e4ba3",
   "metadata": {},
   "outputs": [],
   "source": [
    "## 3. array operations \n",
    "\n",
    "A = np.array([[1, 2], [3, 4]])\n",
    "B = np.array([[5, 6], [7, 8]])\n",
    "\n",
    "A + B   # Element-wise addition\n",
    "A - B   # Element-wise subtraction\n",
    "A * B   # Element-wise multiplication\n",
    "A @ B   # Matrix multiplication (or np.dot(A, B))\n",
    "A / B   # Element-wise division\n",
    "A ** 2  # Element-wise exponentiation\n",
    "np.sqrt(A) # Square root"
   ]
  },
  {
   "cell_type": "code",
   "execution_count": 33,
   "id": "b00833a9",
   "metadata": {},
   "outputs": [
    {
     "data": {
      "text/plain": [
       "array([[2, 2, 2, 2, 2],\n",
       "       [2, 2, 2, 2, 2],\n",
       "       [2, 2, 2, 2, 2]])"
      ]
     },
     "execution_count": 33,
     "metadata": {},
     "output_type": "execute_result"
    }
   ],
   "source": [
    "# 4. aggregation functions\n",
    "A.sum()         # Sum of all elements\n",
    "A.mean()        # Mean\n",
    "A.std()         # Standard deviation\n",
    "A.min()         # Minimum\n",
    "A.max()         # Maximum\n",
    "A.argmin()      # Index of minimum value\n",
    "A.argmax()      # Index of maximum value\n",
    "np.median(A)    # Median\n",
    "np.percentile(A, 75)  # 75th percentile"
   ]
  },
  {
   "cell_type": "code",
   "execution_count": 7,
   "id": "a344cb86",
   "metadata": {},
   "outputs": [
    {
     "ename": "NameError",
     "evalue": "name 'A' is not defined",
     "output_type": "error",
     "traceback": [
      "\u001b[1;31m---------------------------------------------------------------------------\u001b[0m",
      "\u001b[1;31mNameError\u001b[0m                                 Traceback (most recent call last)",
      "Cell \u001b[1;32mIn[7], line 2\u001b[0m\n\u001b[0;32m      1\u001b[0m \u001b[38;5;66;03m# 5. indexing & slicing \u001b[39;00m\n\u001b[1;32m----> 2\u001b[0m \u001b[43mA\u001b[49m[\u001b[38;5;241m0\u001b[39m, \u001b[38;5;241m1\u001b[39m]     \u001b[38;5;66;03m# Element at row 0, col 1\u001b[39;00m\n\u001b[0;32m      3\u001b[0m A[:, \u001b[38;5;241m0\u001b[39m]     \u001b[38;5;66;03m# First column\u001b[39;00m\n\u001b[0;32m      4\u001b[0m A[\u001b[38;5;241m0\u001b[39m, :]     \u001b[38;5;66;03m# First row\u001b[39;00m\n",
      "\u001b[1;31mNameError\u001b[0m: name 'A' is not defined"
     ]
    }
   ],
   "source": [
    "# 5. indexing & slicing \n",
    "A[0, 1]     # Element at row 0, col 1\n",
    "A[:, 0]     # First column\n",
    "A[0, :]     # First row\n",
    "A[1, 1] = 99 # Change element at row 1, col 1\n",
    "A[0:2, 0:2] # Sub-matrix (first 2 rows, first 2 cols)"
   ]
  },
  {
   "cell_type": "code",
   "execution_count": 36,
   "id": "3134206f",
   "metadata": {},
   "outputs": [
    {
     "data": {
      "text/plain": [
       "array([0.        , 0.11111111, 0.22222222, 0.33333333, 0.44444444,\n",
       "       0.55555556, 0.66666667, 0.77777778, 0.88888889, 1.        ])"
      ]
     },
     "execution_count": 36,
     "metadata": {},
     "output_type": "execute_result"
    }
   ],
   "source": [
    "# 6. Reshaping & concatenation\n",
    "A.reshape(4, 1)       # Reshape to 4x1\n",
    "np.hstack([A, B])     # Horizontal stacking\n",
    "np.vstack([A, B])     # Vertical stacking\n",
    "A.flatten()           # Convert to 1D array\n",
    "np.transpose(A)       # Transpose\n"
   ]
  },
  {
   "cell_type": "code",
   "execution_count": 37,
   "id": "cdc221c8",
   "metadata": {},
   "outputs": [
    {
     "data": {
      "text/plain": [
       "array([[-0.37681109,  0.0083433 ,  0.52476777],\n",
       "       [ 0.62297525, -1.36341664, -0.5659417 ],\n",
       "       [-1.03190522,  0.30221427, -0.93399073]])"
      ]
     },
     "execution_count": 37,
     "metadata": {},
     "output_type": "execute_result"
    }
   ],
   "source": [
    "# 7. logical operations\n",
    "A > 2      # Boolean mask\n",
    "A[A > 2]   # Filtering\n",
    "np.where(A > 2, 1, 0)  # Replace values based on condition"
   ]
  },
  {
   "cell_type": "code",
   "execution_count": 38,
   "id": "60d48c4e",
   "metadata": {},
   "outputs": [
    {
     "data": {
      "text/plain": [
       "array([[1., 0., 0.],\n",
       "       [0., 1., 0.],\n",
       "       [0., 0., 1.]])"
      ]
     },
     "execution_count": 38,
     "metadata": {},
     "output_type": "execute_result"
    }
   ],
   "source": [
    "# 8. saving & loading data\n",
    "np.save(\"array.npy\", A)    # Save array\n",
    "np.load(\"array.npy\")        # Load array\n",
    "np.savetxt(\"array.csv\", A, delimiter=\",\")  # Save as CSV\n",
    "np.loadtxt(\"array.csv\", delimiter=\",\")     # Load CSV"
   ]
  },
  {
   "cell_type": "code",
   "execution_count": 59,
   "id": "18022997",
   "metadata": {},
   "outputs": [
    {
     "data": {
      "text/plain": [
       "3"
      ]
     },
     "execution_count": 59,
     "metadata": {},
     "output_type": "execute_result"
    }
   ],
   "source": [
    "list1.sort() # ascending order \n",
    "list1\n",
    "list1.sort(reverse=True)\n",
    "list1\n",
    "len(list1)"
   ]
  },
  {
   "cell_type": "code",
   "execution_count": 61,
   "id": "1905c90e",
   "metadata": {},
   "outputs": [
    {
     "data": {
      "text/plain": [
       "[{'name': 'Bob', 'age': 20}, {'name': 'Alice', 'age': 25}]"
      ]
     },
     "execution_count": 61,
     "metadata": {},
     "output_type": "execute_result"
    }
   ],
   "source": [
    "people = [{'name': 'Alice', 'age': 25}, {'name': 'Bob', 'age': 20}]\n",
    "sorted_people = sorted(people, key=lambda x: x['age']) # lambda us anonymous(inline) funciton argments:expression\n",
    "sorted_people"
   ]
  },
  {
   "cell_type": "code",
   "execution_count": 65,
   "id": "4ced6aa6",
   "metadata": {},
   "outputs": [
    {
     "name": "stdout",
     "output_type": "stream",
     "text": [
      "x3 ndim:  3\n",
      "x3 shape: (3, 4, 5)\n",
      "x3 size:  60\n"
     ]
    }
   ],
   "source": [
    "np.random.seed(0)  # seed for reproducibility\n",
    "\n",
    "x1 = np.random.randint(10, size=6)  # One-dimensional array\n",
    "x2 = np.random.randint(10, size=(3, 4))  # Two-dimensional array\n",
    "x3 = np.random.randint(10, size=(3, 4, 5))  # Three-dimensional array\n",
    "print(\"x3 ndim: \", x3.ndim)\n",
    "print(\"x3 shape:\", x3.shape)\n",
    "print(\"x3 size: \", x3.size)"
   ]
  },
  {
   "cell_type": "code",
   "execution_count": 71,
   "id": "7c894732",
   "metadata": {},
   "outputs": [
    {
     "name": "stdout",
     "output_type": "stream",
     "text": [
      "[[[8 1 5 9 8]\n",
      "  [9 4 3 0 3]\n",
      "  [5 0 2 3 8]\n",
      "  [1 3 3 3 7]]\n",
      "\n",
      " [[0 1 9 9 0]\n",
      "  [4 7 3 2 7]\n",
      "  [2 0 0 4 5]\n",
      "  [5 6 8 4 1]]\n",
      "\n",
      " [[4 9 8 1 1]\n",
      "  [7 9 9 3 6]\n",
      "  [7 2 0 3 5]\n",
      "  [9 4 4 6 4]]]\n",
      "dtype: int32\n",
      "itemsize: 4 bytes\n",
      "totalbytes: 240 bytes\n"
     ]
    }
   ],
   "source": [
    "print(x3)\n",
    "print(\"dtype:\",x3.dtype) # int32 >>> 32 bits are used to store the integer value\n",
    "print(\"itemsize:\",x3.itemsize,\"bytes\") # 1 byte=8 bits, 32 bits/8= 4 bytes for each element\n",
    "print(\"totalbytes:\",x3.nbytes,\"bytes\")"
   ]
  },
  {
   "cell_type": "code",
   "execution_count": 79,
   "id": "40653c15",
   "metadata": {},
   "outputs": [
    {
     "name": "stdout",
     "output_type": "stream",
     "text": [
      "0\n",
      "1\n",
      "2\n",
      "3\n",
      "4\n",
      "5\n",
      "6\n",
      "7\n",
      "8\n",
      "9\n"
     ]
    }
   ],
   "source": [
    "x1  # x[start:stop:step]\n",
    "range(10)\n",
    "for num in range(10):\n",
    "    print(num)"
   ]
  },
  {
   "cell_type": "code",
   "execution_count": 81,
   "id": "f6cccc38",
   "metadata": {},
   "outputs": [
    {
     "data": {
      "text/plain": [
       "array([0.16666667, 1.        , 0.25      , 0.25      , 0.125     ,\n",
       "       0.25      , 0.16666667, 0.33333333, 0.2       , 0.125     ])"
      ]
     },
     "execution_count": 81,
     "metadata": {},
     "output_type": "execute_result"
    }
   ],
   "source": [
    "np.random.seed(0)\n",
    "\n",
    "def compute_reciprocals(x):\n",
    "    output = np.empty(len(x))\n",
    "    for i in range(len(x)):\n",
    "        output[i] = 1/x[i]\n",
    "    return output\n",
    "\n",
    "x = np.random.randint(1,10,size=10)\n",
    "compute_reciprocals(x)"
   ]
  },
  {
   "cell_type": "code",
   "execution_count": 82,
   "id": "b413aa84",
   "metadata": {},
   "outputs": [
    {
     "name": "stdout",
     "output_type": "stream",
     "text": [
      "346 ms ± 19.2 ms per loop (mean ± std. dev. of 7 runs, 1 loop each)\n"
     ]
    }
   ],
   "source": [
    "big_array = np.random.randint(1, 100, size=1000000)\n",
    "%timeit compute_reciprocals(big_array)"
   ]
  },
  {
   "cell_type": "code",
   "execution_count": 84,
   "id": "33631bd6",
   "metadata": {},
   "outputs": [
    {
     "name": "stdout",
     "output_type": "stream",
     "text": [
      "3.2 ms ± 161 µs per loop (mean ± std. dev. of 7 runs, 100 loops each)\n"
     ]
    }
   ],
   "source": [
    "%timeit (1/big_array) # 100 loops already can provide a stable estimate"
   ]
  },
  {
   "cell_type": "code",
   "execution_count": 90,
   "id": "1c4f249d",
   "metadata": {},
   "outputs": [
    {
     "name": "stdout",
     "output_type": "stream",
     "text": [
      "[1 2 3 4 5]\n",
      "[1 3 5 7 9]\n"
     ]
    }
   ],
   "source": [
    "print(np.arange(1,6)) # np.arrange(start[default=0], stop (exclusive, not included),step)\n",
    "print(np.arange(1,11,2))"
   ]
  },
  {
   "cell_type": "code",
   "execution_count": 93,
   "id": "e5749a51",
   "metadata": {},
   "outputs": [
    {
     "name": "stdout",
     "output_type": "stream",
     "text": [
      "[0.         1.57079633 3.14159265]\n"
     ]
    },
    {
     "data": {
      "text/plain": [
       "numpy.ndarray"
      ]
     },
     "execution_count": 93,
     "metadata": {},
     "output_type": "execute_result"
    }
   ],
   "source": [
    "theta = np.linspace(0, np.pi, 3)\n",
    "print(theta)\n",
    "type(theta)"
   ]
  },
  {
   "cell_type": "code",
   "execution_count": 94,
   "id": "a8b61cb8",
   "metadata": {},
   "outputs": [
    {
     "name": "stdout",
     "output_type": "stream",
     "text": [
      "sin(theta) =  [0.0000000e+00 1.0000000e+00 1.2246468e-16]\n",
      "cos(theta) =  [ 1.000000e+00  6.123234e-17 -1.000000e+00]\n",
      "tan(theta) =  [ 0.00000000e+00  1.63312394e+16 -1.22464680e-16]\n"
     ]
    }
   ],
   "source": [
    "print(\"sin(theta) = \", np.sin(theta))\n",
    "print(\"cos(theta) = \", np.cos(theta))\n",
    "print(\"tan(theta) = \", np.tan(theta))"
   ]
  },
  {
   "cell_type": "code",
   "execution_count": 100,
   "id": "ff3a858e",
   "metadata": {},
   "outputs": [
    {
     "data": {
      "text/plain": [
       "array([1, 4, 9])"
      ]
     },
     "execution_count": 100,
     "metadata": {},
     "output_type": "execute_result"
    }
   ],
   "source": [
    "x = np.array([1, 2, 3])\n",
    "type(x)\n",
    "x**2"
   ]
  },
  {
   "cell_type": "code",
   "execution_count": 101,
   "id": "aad70bdb",
   "metadata": {},
   "outputs": [
    {
     "name": "stdout",
     "output_type": "stream",
     "text": [
      "gamma(x)     = [1.0000e+00 2.4000e+01 3.6288e+05]\n",
      "ln|gamma(x)| = [ 0.          3.17805383 12.80182748]\n",
      "beta(x, 2)   = [0.5        0.03333333 0.00909091]\n",
      "erf(x)  = [0.         0.32862676 0.67780119 0.84270079]\n",
      "erfc(x) = [1.         0.67137324 0.32219881 0.15729921]\n",
      "erfinv(x) = [0.         0.27246271 0.73286908        inf]\n"
     ]
    }
   ],
   "source": [
    "from scipy import special\n",
    "# Gamma functions (generalized factorials) and related functions\n",
    "x = [1, 5, 10]\n",
    "print(\"gamma(x)     =\", special.gamma(x))\n",
    "print(\"ln|gamma(x)| =\", special.gammaln(x))\n",
    "print(\"beta(x, 2)   =\", special.beta(x, 2))\n",
    "\n",
    "# Error function (integral of Gaussian)\n",
    "# its complement, and its inverse\n",
    "x = np.array([0, 0.3, 0.7, 1.0])\n",
    "print(\"erf(x)  =\", special.erf(x))\n",
    "print(\"erfc(x) =\", special.erfc(x))\n",
    "print(\"erfinv(x) =\", special.erfinv(x))"
   ]
  }
 ],
 "metadata": {
  "kernelspec": {
   "display_name": "Python 3 (ipykernel)",
   "language": "python",
   "name": "python3"
  },
  "language_info": {
   "codemirror_mode": {
    "name": "ipython",
    "version": 3
   },
   "file_extension": ".py",
   "mimetype": "text/x-python",
   "name": "python",
   "nbconvert_exporter": "python",
   "pygments_lexer": "ipython3",
   "version": "3.10.9"
  }
 },
 "nbformat": 4,
 "nbformat_minor": 5
}
