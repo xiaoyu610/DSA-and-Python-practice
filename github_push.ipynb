{
 "cells": [
  {
   "cell_type": "code",
   "execution_count": null,
   "id": "90cf10b6",
   "metadata": {},
   "outputs": [],
   "source": [
    "# go to terminal #\n",
    "# pwd\n",
    "# cd C:/Users/xiaoyu/Desktop/AIML/DSA-Python-practice\n",
    "\n",
    "# 1. Initialize a git repository\n",
    "git init # This creates a hidden .git folder inside your working directory.\n",
    "\n",
    "# 2. connect to a github repository URL\n",
    "# copy e.g., https://github.com/xiaoyu610/DSA-and-Python-practice\n",
    "git remote add origin https://github.com/xiaoyu610/DSA-and-Python-practice\n",
    "    \n",
    "# 3. add and commit files\n",
    "git add . # Stage all files in the directory\n"
   ]
  },
  {
   "cell_type": "code",
   "execution_count": 3,
   "id": "7f21b351",
   "metadata": {},
   "outputs": [],
   "source": [
    "import os"
   ]
  },
  {
   "cell_type": "code",
   "execution_count": 4,
   "id": "5b682a15",
   "metadata": {},
   "outputs": [],
   "source": [
    "os.chdir('C:/Users/xiaoyu/Desktop/AIML/DSA-Python-practice')"
   ]
  },
  {
   "cell_type": "code",
   "execution_count": 5,
   "id": "ce5ca47b",
   "metadata": {},
   "outputs": [
    {
     "name": "stdout",
     "output_type": "stream",
     "text": [
      "Initialized empty Git repository in C:/Users/xiaoyu/Desktop/AIML/DSA-Python-practice/.git/\n"
     ]
    }
   ],
   "source": [
    "!git init"
   ]
  },
  {
   "cell_type": "code",
   "execution_count": 6,
   "id": "6db6578c",
   "metadata": {},
   "outputs": [],
   "source": [
    "!git remote add origin https://github.com/xiaoyu610/DSA-and-Python-practice.git"
   ]
  },
  {
   "cell_type": "code",
   "execution_count": 7,
   "id": "9974a6e3",
   "metadata": {},
   "outputs": [
    {
     "name": "stdout",
     "output_type": "stream",
     "text": [
      "On branch master\n",
      "\n",
      "No commits yet\n",
      "\n",
      "Untracked files:\n",
      "  (use \"git add <file>...\" to include in what will be committed)\n",
      "\t.ipynb_checkpoints/\n",
      "\ttest.ipynb\n",
      "\n",
      "nothing added to commit but untracked files present (use \"git add\" to track)\n"
     ]
    }
   ],
   "source": [
    "!git status"
   ]
  },
  {
   "cell_type": "code",
   "execution_count": 8,
   "id": "2009429f",
   "metadata": {},
   "outputs": [
    {
     "name": "stderr",
     "output_type": "stream",
     "text": [
      "git: 'add.' is not a git command. See 'git --help'.\n",
      "\n",
      "The most similar command is\n",
      "\tadd\n"
     ]
    }
   ],
   "source": [
    "!git add."
   ]
  },
  {
   "cell_type": "code",
   "execution_count": 9,
   "id": "f0fb6b75",
   "metadata": {},
   "outputs": [
    {
     "name": "stderr",
     "output_type": "stream",
     "text": [
      "warning: LF will be replaced by CRLF in .ipynb_checkpoints/test-checkpoint.ipynb.\n",
      "The file will have its original line endings in your working directory\n",
      "warning: LF will be replaced by CRLF in test.ipynb.\n",
      "The file will have its original line endings in your working directory\n"
     ]
    }
   ],
   "source": [
    "!git add ."
   ]
  },
  {
   "cell_type": "code",
   "execution_count": 10,
   "id": "6c3eb9c6",
   "metadata": {},
   "outputs": [
    {
     "name": "stdout",
     "output_type": "stream",
     "text": [
      "[master (root-commit) 2ea7660] Initial commit from Jupter Notebook\n",
      " 2 files changed, 79 insertions(+)\n",
      " create mode 100644 .ipynb_checkpoints/test-checkpoint.ipynb\n",
      " create mode 100644 test.ipynb\n"
     ]
    }
   ],
   "source": [
    "!git commit -m \"Initial commit from Jupter Notebook\""
   ]
  },
  {
   "cell_type": "code",
   "execution_count": 14,
   "id": "6ac6bdb8",
   "metadata": {},
   "outputs": [
    {
     "name": "stderr",
     "output_type": "stream",
     "text": [
      "From https://github.com/xiaoyu610/DSA-and-Python-practice\n",
      " * branch            main       -> FETCH_HEAD\n",
      "fatal: refusing to merge unrelated histories\n"
     ]
    },
    {
     "name": "stdout",
     "output_type": "stream",
     "text": [
      "origin\thttps://github.com/xiaoyu610/DSA-and-Python-practice.git (fetch)\n",
      "origin\thttps://github.com/xiaoyu610/DSA-and-Python-practice.git (push)\n"
     ]
    }
   ],
   "source": [
    "!git pull origin main\n",
    "!git remote -v"
   ]
  },
  {
   "cell_type": "code",
   "execution_count": 12,
   "id": "933456dd",
   "metadata": {},
   "outputs": [
    {
     "name": "stderr",
     "output_type": "stream",
     "text": [
      "To https://github.com/xiaoyu610/DSA-and-Python-practice.git\n",
      " ! [rejected]        main -> main (fetch first)\n",
      "error: failed to push some refs to 'https://github.com/xiaoyu610/DSA-and-Python-practice.git'\n",
      "hint: Updates were rejected because the remote contains work that you do\n",
      "hint: not have locally. This is usually caused by another repository pushing\n",
      "hint: to the same ref. You may want to first integrate the remote changes\n",
      "hint: (e.g., 'git pull ...') before pushing again.\n",
      "hint: See the 'Note about fast-forwards' in 'git push --help' for details.\n"
     ]
    }
   ],
   "source": [
    "!git branch -M main\n",
    "!git push -u origin main"
   ]
  },
  {
   "cell_type": "code",
   "execution_count": 15,
   "id": "abc42921",
   "metadata": {},
   "outputs": [
    {
     "name": "stderr",
     "output_type": "stream",
     "text": [
      "From https://github.com/xiaoyu610/DSA-and-Python-practice\n",
      " * branch            main       -> FETCH_HEAD\n",
      "fatal: refusing to merge unrelated histories\n"
     ]
    }
   ],
   "source": [
    "!git pull origin main"
   ]
  }
 ],
 "metadata": {
  "kernelspec": {
   "display_name": "Python 3 (ipykernel)",
   "language": "python",
   "name": "python3"
  },
  "language_info": {
   "codemirror_mode": {
    "name": "ipython",
    "version": 3
   },
   "file_extension": ".py",
   "mimetype": "text/x-python",
   "name": "python",
   "nbconvert_exporter": "python",
   "pygments_lexer": "ipython3",
   "version": "3.10.9"
  }
 },
 "nbformat": 4,
 "nbformat_minor": 5
}
