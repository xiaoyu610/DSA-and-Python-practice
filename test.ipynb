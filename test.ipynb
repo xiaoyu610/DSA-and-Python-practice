{
 "cells": [
  {
   "cell_type": "code",
   "execution_count": 3,
   "id": "e91010c2",
   "metadata": {},
   "outputs": [],
   "source": [
    "import os"
   ]
  },
  {
   "cell_type": "code",
   "execution_count": 4,
   "id": "8c35f780",
   "metadata": {},
   "outputs": [],
   "source": [
    "os.chdir('C:/Users/xiaoyu/Desktop/AIML/DSA-Python-practice')"
   ]
  },
  {
   "cell_type": "code",
   "execution_count": 5,
   "id": "ff142168",
   "metadata": {},
   "outputs": [
    {
     "name": "stdout",
     "output_type": "stream",
     "text": [
      "Initialized empty Git repository in C:/Users/xiaoyu/Desktop/AIML/DSA-Python-practice/.git/\n"
     ]
    }
   ],
   "source": [
    "!git init"
   ]
  },
  {
   "cell_type": "code",
   "execution_count": null,
   "id": "8b9b8afb",
   "metadata": {},
   "outputs": [],
   "source": [
    "!git remote add origin "
   ]
  }
 ],
 "metadata": {
  "kernelspec": {
   "display_name": "Python 3 (ipykernel)",
   "language": "python",
   "name": "python3"
  },
  "language_info": {
   "codemirror_mode": {
    "name": "ipython",
    "version": 3
   },
   "file_extension": ".py",
   "mimetype": "text/x-python",
   "name": "python",
   "nbconvert_exporter": "python",
   "pygments_lexer": "ipython3",
   "version": "3.10.9"
  }
 },
 "nbformat": 4,
 "nbformat_minor": 5
}
